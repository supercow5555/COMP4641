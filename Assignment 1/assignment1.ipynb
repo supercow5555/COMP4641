{
 "cells": [
  {
   "cell_type": "code",
   "execution_count": 2,
   "metadata": {},
   "outputs": [],
   "source": [
    "import networkx as nx"
   ]
  },
  {
   "cell_type": "code",
   "execution_count": 4,
   "metadata": {},
   "outputs": [],
   "source": [
    "G = nx.read_edgelist('facebook_clean_data/government_edges.txt', delimiter=',')"
   ]
  },
  {
   "cell_type": "code",
   "execution_count": 28,
   "metadata": {},
   "outputs": [
    {
     "name": "stdout",
     "output_type": "stream",
     "text": [
      "The number of Nodes are: 7059 \n",
      "The number of Edges are: 89456\n"
     ]
    }
   ],
   "source": [
    "print(\"The number of Nodes are:\", G.number_of_nodes(), \\\n",
    "      \"\\nThe number of Edges are:\", G.number_of_edges())\n"
   ]
  },
  {
   "cell_type": "code",
   "execution_count": 36,
   "metadata": {},
   "outputs": [
    {
     "ename": "AttributeError",
     "evalue": "'DegreeView' object has no attribute 'values'",
     "output_type": "error",
     "traceback": [
      "\u001b[0;31m---------------------------------------------------------------------------\u001b[0m",
      "\u001b[0;31mAttributeError\u001b[0m                            Traceback (most recent call last)",
      "Cell \u001b[0;32mIn[36], line 2\u001b[0m\n\u001b[1;32m      1\u001b[0m degrees \u001b[39m=\u001b[39m G\u001b[39m.\u001b[39mdegree()\n\u001b[0;32m----> 2\u001b[0m degrees\u001b[39m.\u001b[39;49mvalues()\n",
      "\u001b[0;31mAttributeError\u001b[0m: 'DegreeView' object has no attribute 'values'"
     ]
    }
   ],
   "source": [
    "degrees = G.degree()\n",
    "degrees.values()\n"
   ]
  }
 ],
 "metadata": {
  "kernelspec": {
   "display_name": "COMP4641",
   "language": "python",
   "name": "python3"
  },
  "language_info": {
   "codemirror_mode": {
    "name": "ipython",
    "version": 3
   },
   "file_extension": ".py",
   "mimetype": "text/x-python",
   "name": "python",
   "nbconvert_exporter": "python",
   "pygments_lexer": "ipython3",
   "version": "3.10.9"
  },
  "orig_nbformat": 4,
  "vscode": {
   "interpreter": {
    "hash": "7cd68f0176fa820ee58f82fef8d313bb4cacaf0e534eddfd3066caeb448c3212"
   }
  }
 },
 "nbformat": 4,
 "nbformat_minor": 2
}
