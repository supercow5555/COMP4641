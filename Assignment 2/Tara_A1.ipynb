{
  "cells": [
    {
      "cell_type": "markdown",
      "metadata": {
        "id": "KODh9YTdtMHf"
      },
      "source": [
        "Install DGL"
      ]
    },
    {
      "cell_type": "markdown",
      "metadata": {
        "id": "FJ8oa1yg4VUi"
      },
      "source": [
        "Import the necessary pacakges"
      ]
    },
    {
      "cell_type": "code",
      "execution_count": 2,
      "metadata": {
        "colab": {
          "base_uri": "https://localhost:8080/"
        },
        "id": "gtQvlxTs4YH9",
        "outputId": "6047aaca-5987-4acf-df2a-2b1fea767220"
      },
      "outputs": [],
      "source": [
        "import dgl\n",
        "import numpy as np\n",
        "import sklearn\n",
        "import torch\n",
        "import torch.nn as nn\n",
        "import torch.nn.functional as F\n",
        "import scipy.sparse as sp"
      ]
    },
    {
      "cell_type": "markdown",
      "metadata": {
        "id": "uWae5fDs7amg"
      },
      "source": [
        "**Q2**\n",
        "\n",
        "import the karate dataset"
      ]
    },
    {
      "cell_type": "code",
      "execution_count": 2,
      "metadata": {
        "id": "yfBOtBgDsjAb"
      },
      "outputs": [],
      "source": [
        "import dgl.data\n",
        "\n",
        "dataset = dgl.data.KarateClubDataset()\n",
        "g = dataset[0]\n"
      ]
    },
    {
      "cell_type": "markdown",
      "metadata": {
        "id": "yyKCbMZwwCUi"
      },
      "source": [
        "Preprocess the dataset"
      ]
    },
    {
      "cell_type": "code",
      "execution_count": 3,
      "metadata": {
        "id": "qnP9Hb7nqp4m"
      },
      "outputs": [],
      "source": [
        "# Split edge set for training and testing\n",
        "u, v = g.edges()\n",
        "\n",
        "# Find all negative edges \n",
        "adj = sp.coo_matrix((np.ones(len(u)), (u.numpy(), v.numpy())))\n",
        "adj_neg = 1 - adj.todense() - np.eye(g.number_of_nodes())\n",
        "neg_u, neg_v = np.where(adj_neg != 0)\n",
        "\n",
        "# split the postive and negative graphes\n",
        "pos_g = dgl.graph(\n",
        "    (u, v), num_nodes=g.number_of_nodes()\n",
        ")\n",
        "neg_g = dgl.graph(\n",
        "    (neg_u, neg_v), num_nodes=g.number_of_nodes()\n",
        ")"
      ]
    },
    {
      "cell_type": "markdown",
      "metadata": {
        "id": "FLxZBRECjH58"
      },
      "source": [
        "Initialize the node embedding"
      ]
    },
    {
      "cell_type": "code",
      "execution_count": 4,
      "metadata": {
        "id": "k9SLSvd6jBYI"
      },
      "outputs": [
        {
          "data": {
            "text/plain": [
              "Parameter containing:\n",
              "tensor([[ 0.2716, -0.3729],\n",
              "        [-0.3491, -0.2162],\n",
              "        [ 0.0663, -0.3428],\n",
              "        [-0.3503,  0.2174],\n",
              "        [ 0.3372, -0.1619],\n",
              "        [ 0.3091, -0.3253],\n",
              "        [ 0.2180, -0.1143],\n",
              "        [-0.1196, -0.0931],\n",
              "        [-0.2972,  0.2970],\n",
              "        [-0.1991, -0.0413],\n",
              "        [ 0.1372, -0.2889],\n",
              "        [-0.1528,  0.0101],\n",
              "        [ 0.1356, -0.0471],\n",
              "        [-0.2765, -0.1426],\n",
              "        [-0.1972,  0.1679],\n",
              "        [-0.4075,  0.2058],\n",
              "        [-0.3135,  0.2592],\n",
              "        [-0.3657, -0.1896],\n",
              "        [ 0.3312, -0.1309],\n",
              "        [ 0.2869,  0.0245],\n",
              "        [ 0.0534, -0.0735],\n",
              "        [ 0.1260,  0.1077],\n",
              "        [ 0.1255, -0.1624],\n",
              "        [ 0.3733,  0.3012],\n",
              "        [ 0.0411, -0.0033],\n",
              "        [ 0.3178,  0.3677],\n",
              "        [-0.2656, -0.3366],\n",
              "        [-0.1032, -0.3848],\n",
              "        [ 0.1351,  0.2381],\n",
              "        [ 0.2377, -0.1008],\n",
              "        [-0.1213, -0.0153],\n",
              "        [ 0.1659, -0.0566],\n",
              "        [ 0.2280,  0.0203],\n",
              "        [-0.3185,  0.3572]], requires_grad=True)"
            ]
          },
          "execution_count": 4,
          "metadata": {},
          "output_type": "execute_result"
        }
      ],
      "source": [
        "node_embed = nn.Embedding(g.number_of_nodes(), 2)  \n",
        "inputs = node_embed.weight                         \n",
        "nn.init.xavier_uniform_(inputs)"
      ]
    },
    {
      "cell_type": "markdown",
      "metadata": {
        "id": "axZFsy9b3IGt"
      },
      "source": [
        "Build the model based on  GraphSAGE.\n",
        "\n",
        "\n",
        "\n"
      ]
    },
    {
      "cell_type": "code",
      "execution_count": 5,
      "metadata": {
        "id": "vmHUKOgN3Hjk"
      },
      "outputs": [],
      "source": [
        "from dgl.nn import SAGEConv\n",
        "\n",
        "class Model(nn.Module):\n",
        "    def __init__(self, input_feats, h_feats):\n",
        "        super(Model, self).__init__()\n",
        "        '''please build the two GraphSAGE layers.'''\n",
        "        self.gnn1 = SAGEConv(input_feats, h_feats, 'mean')\n",
        "        self.gnn2 = SAGEConv(h_feats, h_feats, 'mean')\n",
        "\n",
        "    def forward(self, g, in_feat):\n",
        "        hidden1 = self.gnn1(g, in_feat)\n",
        "        hidden1_ar = F.relu(hidden1)\n",
        "        h = self.gnn2(g, hidden1_ar)\n",
        "        return h"
      ]
    },
    {
      "cell_type": "markdown",
      "metadata": {
        "id": "K_JMDITrsLwh"
      },
      "source": [
        "Define the adjacency-based similarity loss"
      ]
    },
    {
      "cell_type": "code",
      "execution_count": 6,
      "metadata": {
        "id": "XS27_ilMsFLM"
      },
      "outputs": [],
      "source": [
        "import dgl.function as fn\n",
        "\n",
        "\n",
        "class Score(nn.Module):\n",
        "    def forward(self, g, h):\n",
        "        with g.local_scope():\n",
        "            g.ndata['h'] = h\n",
        "            # Compute a new edge feature named 'score' by a dot-product between the\n",
        "            # source node feature 'h' and destination node feature 'h'.\n",
        "            g.apply_edges(fn.u_dot_v('h', 'h', 'score'))\n",
        "            # u_dot_v returns a 1-element vector for each edge so you need to squeeze it.\n",
        "            return g.edata['score'][:, 0]\n",
        "\n",
        "model = Model(2,2)\n",
        "score = Score() \n",
        "\n",
        "\n",
        "def compute_loss(pos_score, neg_score):\n",
        "    scores = torch.cat([pos_score, neg_score])\n",
        "    labels = torch.cat(\n",
        "        [torch.ones(pos_score.shape[0]), torch.zeros(neg_score.shape[0])]\n",
        "    )\n",
        "    return torch.mean((scores-labels)**2)"
      ]
    },
    {
      "cell_type": "markdown",
      "metadata": {
        "id": "xV0s27AfUIL-"
      },
      "source": [
        "Train the network"
      ]
    },
    {
      "cell_type": "code",
      "execution_count": 7,
      "metadata": {
        "id": "ZewnK7b94QWl"
      },
      "outputs": [
        {
          "name": "stderr",
          "output_type": "stream",
          "text": [
            "/Users/apple/opt/anaconda3/envs/COMP4641/lib/python3.10/site-packages/dgl/backend/pytorch/tensor.py:445: UserWarning: TypedStorage is deprecated. It will be removed in the future and UntypedStorage will be the only storage class. This should only matter to you if you are using storages directly.  To access UntypedStorage directly, use tensor.untyped_storage() instead of tensor.storage()\n",
            "  assert input.numel() == input.storage().size(), (\n"
          ]
        },
        {
          "name": "stdout",
          "output_type": "stream",
          "text": [
            "In epoch 0, loss: 0.28324785828590393\n",
            "In epoch 1, loss: 0.25062090158462524\n",
            "In epoch 2, loss: 0.22385743260383606\n",
            "In epoch 3, loss: 0.20291076600551605\n",
            "In epoch 4, loss: 0.18650899827480316\n",
            "In epoch 5, loss: 0.17334531247615814\n",
            "In epoch 6, loss: 0.1631612479686737\n",
            "In epoch 7, loss: 0.1548176258802414\n",
            "In epoch 8, loss: 0.1481575071811676\n",
            "In epoch 9, loss: 0.14267423748970032\n",
            "In epoch 10, loss: 0.1382024884223938\n",
            "In epoch 11, loss: 0.13519230484962463\n",
            "In epoch 12, loss: 0.13264165818691254\n",
            "In epoch 13, loss: 0.1304752379655838\n",
            "In epoch 14, loss: 0.12862148880958557\n",
            "In epoch 15, loss: 0.1270371824502945\n",
            "In epoch 16, loss: 0.12568555772304535\n",
            "In epoch 17, loss: 0.12453462183475494\n",
            "In epoch 18, loss: 0.1235567107796669\n",
            "In epoch 19, loss: 0.12271176278591156\n",
            "In epoch 20, loss: 0.12198255211114883\n",
            "In epoch 21, loss: 0.12136872112751007\n",
            "In epoch 22, loss: 0.12085410952568054\n",
            "In epoch 23, loss: 0.12042465060949326\n",
            "In epoch 24, loss: 0.1200680360198021\n",
            "In epoch 25, loss: 0.11977358162403107\n",
            "In epoch 26, loss: 0.11953207850456238\n",
            "In epoch 27, loss: 0.11933545023202896\n",
            "In epoch 28, loss: 0.11917673051357269\n",
            "In epoch 29, loss: 0.11904998123645782\n",
            "In epoch 30, loss: 0.1189500242471695\n",
            "In epoch 31, loss: 0.11887241154909134\n",
            "In epoch 32, loss: 0.11881326884031296\n",
            "In epoch 33, loss: 0.11876937001943588\n",
            "In epoch 34, loss: 0.11873788386583328\n",
            "In epoch 35, loss: 0.11871635913848877\n",
            "In epoch 36, loss: 0.11870282888412476\n",
            "In epoch 37, loss: 0.11869560182094574\n",
            "In epoch 38, loss: 0.11869309842586517\n",
            "In epoch 39, loss: 0.11869421601295471\n",
            "In epoch 40, loss: 0.1186978742480278\n",
            "In epoch 41, loss: 0.11870326101779938\n",
            "In epoch 42, loss: 0.11870968341827393\n",
            "In epoch 43, loss: 0.11871659010648727\n",
            "In epoch 44, loss: 0.1187235414981842\n",
            "In epoch 45, loss: 0.11873021721839905\n",
            "In epoch 46, loss: 0.11873636394739151\n",
            "In epoch 47, loss: 0.11874175816774368\n",
            "In epoch 48, loss: 0.1187463328242302\n",
            "In epoch 49, loss: 0.11874997615814209\n",
            "In epoch 50, loss: 0.11875265836715698\n",
            "In epoch 51, loss: 0.11875439435243607\n",
            "In epoch 52, loss: 0.11875521391630173\n",
            "In epoch 53, loss: 0.11875515431165695\n",
            "In epoch 54, loss: 0.1187542974948883\n",
            "In epoch 55, loss: 0.11875269562005997\n",
            "In epoch 56, loss: 0.11875040829181671\n",
            "In epoch 57, loss: 0.11874759197235107\n",
            "In epoch 58, loss: 0.11874424666166306\n",
            "In epoch 59, loss: 0.1187404990196228\n",
            "In epoch 60, loss: 0.11873646080493927\n",
            "In epoch 61, loss: 0.11873211711645126\n",
            "In epoch 62, loss: 0.11872760206460953\n",
            "In epoch 63, loss: 0.11872298270463943\n",
            "In epoch 64, loss: 0.11871830374002457\n",
            "In epoch 65, loss: 0.11871359497308731\n",
            "In epoch 66, loss: 0.11870893090963364\n",
            "In epoch 67, loss: 0.11870431154966354\n",
            "In epoch 68, loss: 0.1186998188495636\n",
            "In epoch 69, loss: 0.11869543790817261\n",
            "In epoch 70, loss: 0.11869119852781296\n",
            "In epoch 71, loss: 0.11868711560964584\n",
            "In epoch 72, loss: 0.11868320405483246\n",
            "In epoch 73, loss: 0.11867954581975937\n",
            "In epoch 74, loss: 0.11867597699165344\n",
            "In epoch 75, loss: 0.1186726912856102\n",
            "In epoch 76, loss: 0.1186695471405983\n",
            "In epoch 77, loss: 0.11866659671068192\n",
            "In epoch 78, loss: 0.11866383254528046\n",
            "In epoch 79, loss: 0.11866123974323273\n",
            "In epoch 80, loss: 0.11865885555744171\n",
            "In epoch 81, loss: 0.11865662783384323\n",
            "In epoch 82, loss: 0.11865456402301788\n",
            "In epoch 83, loss: 0.11865267157554626\n",
            "In epoch 84, loss: 0.1186509057879448\n",
            "In epoch 85, loss: 0.11864926666021347\n",
            "In epoch 86, loss: 0.11864781379699707\n",
            "In epoch 87, loss: 0.11864646524190903\n",
            "In epoch 88, loss: 0.11864520609378815\n",
            "In epoch 89, loss: 0.11864405870437622\n",
            "In epoch 90, loss: 0.11864303797483444\n",
            "In epoch 91, loss: 0.11864212900400162\n",
            "In epoch 92, loss: 0.11864128708839417\n",
            "In epoch 93, loss: 0.11864052712917328\n",
            "In epoch 94, loss: 0.11863981932401657\n",
            "In epoch 95, loss: 0.11863919347524643\n",
            "In epoch 96, loss: 0.11863863468170166\n",
            "In epoch 97, loss: 0.11863809078931808\n",
            "In epoch 98, loss: 0.11863762885332108\n",
            "In epoch 99, loss: 0.11863720417022705\n"
          ]
        }
      ],
      "source": [
        "import itertools\n",
        "optimizer = torch.optim.Adam(itertools.chain(model.parameters(), node_embed.parameters()), lr=0.01)\n",
        "\n",
        "\n",
        "for e in range(100):\n",
        "      # forward\n",
        "      h = model(g,inputs)\n",
        "      pos_score = score(pos_g,h) \n",
        "      neg_score = score(neg_g,h) \n",
        "      '''please add the loss function into the training scheme'''\n",
        "      loss = compute_loss(pos_score, neg_score)\n",
        "      # backward\n",
        "      optimizer.zero_grad()\n",
        "      loss.backward()\n",
        "      optimizer.step()\n",
        "\n",
        "      print(\"In epoch {}, loss: {}\".format(e, loss))"
      ]
    },
    {
      "cell_type": "markdown",
      "metadata": {
        "id": "NGMZDV3DNlsr"
      },
      "source": [
        "Draw the embedding"
      ]
    },
    {
      "cell_type": "code",
      "execution_count": 8,
      "metadata": {
        "id": "lvcQ3hZ2N1VQ"
      },
      "outputs": [
        {
          "data": {
            "image/png": "[encoded data removed]",
            "text/plain": [
              "<Figure size 640x480 with 1 Axes>"
            ]
          },
          "metadata": {},
          "output_type": "display_data"
        }
      ],
      "source": [
        "import matplotlib.pyplot as plt\n",
        "\n",
        "labels = g.ndata['label'] #obtain the labels\n",
        "\n",
        "for ind,node in enumerate(g.nodes()):  \n",
        "    if labels[ind] == 0:\n",
        "        color = 'red'\n",
        "    else:\n",
        "        color = 'blue'\n",
        "      \n",
        "    '''please draw the embedding using plt.scatter()'''\n",
        "    plt.scatter(node_embed.weight.detach().numpy()[ind,0], node_embed.weight.detach().numpy()[ind,1], c=color)\n",
        "\n",
        "    plt.text(node_embed.weight.detach().numpy()[ind,0]-0.01, node_embed.weight.detach().numpy()[ind,1] , str(int(node.detach().numpy())))\n",
        "plt.show()"
      ]
    },
    {
      "cell_type": "markdown",
      "metadata": {
        "id": "BiYYO6Kftlwd"
      },
      "source": [
        "Cluster using kmeans."
      ]
    },
    {
      "cell_type": "code",
      "execution_count": 9,
      "metadata": {
        "id": "gjidBr5B4Pb7"
      },
      "outputs": [
        {
          "name": "stderr",
          "output_type": "stream",
          "text": [
            "/Users/apple/opt/anaconda3/envs/COMP4641/lib/python3.10/site-packages/sklearn/cluster/_kmeans.py:870: FutureWarning: The default value of `n_init` will change from 10 to 'auto' in 1.4. Set the value of `n_init` explicitly to suppress the warning\n",
            "  warnings.warn(\n"
          ]
        },
        {
          "data": {
            "image/png": "[encoded data removed]",
            "text/plain": [
              "<Figure size 640x480 with 1 Axes>"
            ]
          },
          "metadata": {},
          "output_type": "display_data"
        }
      ],
      "source": [
        "#Import Kmeans,networkx and matplotlib\n",
        "from sklearn.cluster import KMeans\n",
        "import networkx as nx\n",
        "import matplotlib.pyplot as plt\n",
        "\n",
        "'''please conduct the clustering via sklearn.cluster.Kmeans() function'''\n",
        "kmeans = KMeans(n_clusters=2, random_state=0).fit(node_embed.weight.detach().numpy())\n",
        "\n",
        "# Get the predicted cluster labels\n",
        "pred_labels = kmeans.labels_\n",
        "\n",
        "#Visualize the embeddings\n",
        "for ind,node in enumerate(g.nodes()):\n",
        "  if pred_labels[ind] == 0:\n",
        "    color = 'red'\n",
        "  else:\n",
        "    color = 'blue'\n",
        "  '''please draw the embedding using plt.scatter()'''\n",
        "  plt.scatter(node_embed.weight.detach().numpy()[ind,0], node_embed.weight.detach().numpy()[ind,1], c=color)\n",
        "  \n",
        "  plt.text(node_embed.weight.detach().numpy()[ind,0]-0.01, node_embed.weight.detach().numpy()[ind,1] , str(int(node.detach().numpy())))\n",
        "plt.show()"
      ]
    },
    {
      "cell_type": "markdown",
      "metadata": {
        "id": "HwXiuBkxO45-"
      },
      "source": [
        "Repeat the 3 steps above, but with 3 GNN layers and 2-hop similarity function.\n",
        "\n",
        "You can modify the codes above."
      ]
    },
    {
      "cell_type": "markdown",
      "metadata": {
        "id": "KZ9n2dTXPApI"
      },
      "source": [
        "\n",
        "Regenerate the training data that can be combined with the 2-hop similarity function. "
      ]
    },
    {
      "cell_type": "code",
      "execution_count": 10,
      "metadata": {
        "id": "qol51J87PY49"
      },
      "outputs": [],
      "source": [
        "#obtain the two hop neighbor subgraph\n",
        "sg,_ = dgl.khop_in_subgraph(g, 0, k=2)\n",
        "\n",
        "\n",
        "node_id_map = {}\n",
        "for i,org_id in enumerate(sg.ndata[dgl.NID]):\n",
        "    node_id_map[i] = int(org_id.numpy())\n",
        "    \n",
        "\n",
        "###obtain the edges in original graph, as well as the edges in two hop neighbor subgraph.\n",
        "u, v = g.edges()\n",
        "u_s, v_s = sg.edges()\n",
        "\n",
        "# Map the nodes with its original ID.\n",
        "for j,uu in enumerate(u_s):\n",
        "    u_s[j] = torch.tensor(node_id_map[int(uu.numpy())])\n",
        "\n",
        "for j,vv in enumerate(v_s):\n",
        "    v_s[j] = torch.tensor(node_id_map[int(vv.numpy())])\n",
        "\n",
        "\n",
        "# Find all negative edges \n",
        "#(positive edge means the two nodes are connected in the two hop neighbors subgraph) \n",
        "adj = sp.coo_matrix((np.ones(len(u_s)), (u_s.numpy(), v_s.numpy())))\n",
        "adj_neg = 1 - adj.todense() - np.eye(g.number_of_nodes())\n",
        "neg_u, neg_v = np.where(adj_neg != 0)\n",
        "\n",
        "### build the positive and negative graph\n",
        "pos_g = dgl.graph(\n",
        "    (u_s, v_s), num_nodes=g.number_of_nodes()\n",
        ")\n",
        "neg_g = dgl.graph(\n",
        "    (neg_u, neg_v), num_nodes=g.number_of_nodes()\n",
        ")"
      ]
    },
    {
      "cell_type": "markdown",
      "metadata": {
        "id": "CYezRMo_SRAD"
      },
      "source": [
        "Initialize the node embedding"
      ]
    },
    {
      "cell_type": "code",
      "execution_count": 11,
      "metadata": {
        "id": "llWegyuiSK0j"
      },
      "outputs": [
        {
          "data": {
            "text/plain": [
              "Parameter containing:\n",
              "tensor([[ 0.0245, -0.3648],\n",
              "        [ 0.1539, -0.1705],\n",
              "        [-0.0365,  0.2935],\n",
              "        [-0.0126, -0.1936],\n",
              "        [-0.1757,  0.3919],\n",
              "        [ 0.1003,  0.0607],\n",
              "        [ 0.2383,  0.1285],\n",
              "        [ 0.3456, -0.2160],\n",
              "        [-0.3881, -0.2707],\n",
              "        [-0.2210, -0.0187],\n",
              "        [-0.3882,  0.3028],\n",
              "        [ 0.3234, -0.3707],\n",
              "        [ 0.4046, -0.0414],\n",
              "        [ 0.2387,  0.1315],\n",
              "        [ 0.2309, -0.2197],\n",
              "        [ 0.1458, -0.0491],\n",
              "        [ 0.0749, -0.2116],\n",
              "        [ 0.1894,  0.0385],\n",
              "        [-0.2451, -0.0521],\n",
              "        [ 0.0223, -0.1331],\n",
              "        [-0.1205,  0.3471],\n",
              "        [-0.3013,  0.2086],\n",
              "        [ 0.0960, -0.2863],\n",
              "        [ 0.0035,  0.2105],\n",
              "        [-0.2463, -0.0624],\n",
              "        [-0.2769, -0.0707],\n",
              "        [-0.0329,  0.1247],\n",
              "        [ 0.2321,  0.2548],\n",
              "        [ 0.0784, -0.1488],\n",
              "        [ 0.2199, -0.3713],\n",
              "        [-0.2365, -0.1743],\n",
              "        [ 0.2091,  0.2061],\n",
              "        [ 0.3925, -0.0381],\n",
              "        [ 0.0294,  0.0607]], requires_grad=True)"
            ]
          },
          "execution_count": 11,
          "metadata": {},
          "output_type": "execute_result"
        }
      ],
      "source": [
        "node_embed = nn.Embedding(g.number_of_nodes(), 2)  \n",
        "inputs = node_embed.weight\n",
        "nn.init.xavier_uniform_(inputs)"
      ]
    },
    {
      "cell_type": "markdown",
      "metadata": {
        "id": "ezAIeIkTSTQK"
      },
      "source": [
        "Build the model based on GraphSAGE."
      ]
    },
    {
      "cell_type": "code",
      "execution_count": 12,
      "metadata": {
        "id": "Udxq1L2xSSt4"
      },
      "outputs": [],
      "source": [
        "from dgl.nn import SAGEConv\n",
        "\n",
        "class Model(nn.Module):\n",
        "    def __init__(self, input_feats, h_feats):\n",
        "        super(Model, self).__init__()\n",
        "        '''please build the three GraphSAGE layers.'''\n",
        "        self.gnn1 = SAGEConv(input_feats, h_feats, 'mean')\n",
        "        self.gnn2 = SAGEConv(h_feats, h_feats, 'mean')\n",
        "        self.gnn3 = SAGEConv(h_feats, h_feats, 'mean')\n",
        "\n",
        "    def forward(self, g, in_feat):\n",
        "        hidden1 = self.gnn1(g, in_feat)\n",
        "        hidden1_ar = F.relu(hidden1)\n",
        "        h = self.gnn2(g, hidden1_ar)\n",
        "        return h"
      ]
    },
    {
      "cell_type": "markdown",
      "metadata": {
        "id": "oYg2lJrgSSUD"
      },
      "source": [
        "Define the two-hop similarity loss."
      ]
    },
    {
      "cell_type": "code",
      "execution_count": 13,
      "metadata": {
        "id": "y-WL7GSWSYif"
      },
      "outputs": [],
      "source": [
        "class TwoHopScore(nn.Module):\n",
        "    def forward(self, g, h):\n",
        "        with g.local_scope():\n",
        "            g.ndata['h'] = h\n",
        "            # Compute two-hop neighbor features using message passing\n",
        "            g.update_all(fn.copy_u('h', 'm'), fn.sum('m', 'h2'))\n",
        "            g.update_all(fn.copy_u('h2', 'm'), fn.sum('m', 'h2'))\n",
        "            # Compute a new edge feature named 'score' by a dot-product between the\n",
        "            # source node feature 'h2' and destination node feature 'h2'.\n",
        "            g.apply_edges(fn.u_dot_v('h2', 'h2', 'score'))\n",
        "            # u_dot_v returns a 1-element vector for each edge so you need to squeeze it.\n",
        "            return g.edata['score'][:, 0]\n",
        "\n",
        "model = Model(2, 2)\n",
        "score = TwoHopScore()\n",
        "\n",
        "def compute_loss(pos_score, neg_score):\n",
        "    scores = torch.cat([pos_score, neg_score])\n",
        "    labels = torch.cat(\n",
        "        [torch.ones(pos_score.shape[0]), torch.zeros(neg_score.shape[0])]\n",
        "    )\n",
        "    return torch.mean((scores - labels) ** 2)"
      ]
    },
    {
      "cell_type": "markdown",
      "metadata": {
        "id": "3bwTwD6xSds0"
      },
      "source": [
        "Train the network"
      ]
    },
    {
      "cell_type": "code",
      "execution_count": 14,
      "metadata": {
        "id": "bnn5IV25Sd-Z"
      },
      "outputs": [
        {
          "name": "stderr",
          "output_type": "stream",
          "text": [
            "/Users/apple/opt/anaconda3/envs/COMP4641/lib/python3.10/site-packages/dgl/backend/pytorch/tensor.py:445: UserWarning: TypedStorage is deprecated. It will be removed in the future and UntypedStorage will be the only storage class. This should only matter to you if you are using storages directly.  To access UntypedStorage directly, use tensor.untyped_storage() instead of tensor.storage()\n",
            "  assert input.numel() == input.storage().size(), (\n"
          ]
        },
        {
          "name": "stdout",
          "output_type": "stream",
          "text": [
            "In epoch 0, loss: 20726786048.0\n",
            "In epoch 1, loss: 11400732672.0\n",
            "In epoch 2, loss: 5858877440.0\n",
            "In epoch 3, loss: 2803979264.0\n",
            "In epoch 4, loss: 1242579840.0\n",
            "In epoch 5, loss: 502601472.0\n",
            "In epoch 6, loss: 179092288.0\n",
            "In epoch 7, loss: 53117600.0\n",
            "In epoch 8, loss: 11780760.0\n",
            "In epoch 9, loss: 1541017.125\n",
            "In epoch 10, loss: 67549.4453125\n",
            "In epoch 11, loss: 28753.208984375\n",
            "In epoch 12, loss: 499041.03125\n",
            "In epoch 13, loss: 2871478.75\n",
            "In epoch 14, loss: 8973925.0\n",
            "In epoch 15, loss: 20232414.0\n",
            "In epoch 16, loss: 37323276.0\n",
            "In epoch 17, loss: 60059568.0\n",
            "In epoch 18, loss: 87412296.0\n",
            "In epoch 19, loss: 117638344.0\n",
            "In epoch 20, loss: 148504400.0\n",
            "In epoch 21, loss: 177581744.0\n",
            "In epoch 22, loss: 202570608.0\n",
            "In epoch 23, loss: 221597072.0\n",
            "In epoch 24, loss: 233441184.0\n",
            "In epoch 25, loss: 237646096.0\n",
            "In epoch 26, loss: 234507440.0\n",
            "In epoch 27, loss: 226170432.0\n",
            "In epoch 28, loss: 214603904.0\n",
            "In epoch 29, loss: 199165776.0\n",
            "In epoch 30, loss: 181191200.0\n",
            "In epoch 31, loss: 161930896.0\n",
            "In epoch 32, loss: 142541136.0\n",
            "In epoch 33, loss: 123654208.0\n",
            "In epoch 34, loss: 105987528.0\n",
            "In epoch 35, loss: 89945224.0\n",
            "In epoch 36, loss: 75669376.0\n",
            "In epoch 37, loss: 63200908.0\n",
            "In epoch 38, loss: 52479292.0\n",
            "In epoch 39, loss: 43377452.0\n",
            "In epoch 40, loss: 35732584.0\n",
            "In epoch 41, loss: 29367024.0\n",
            "In epoch 42, loss: 24103696.0\n",
            "In epoch 43, loss: 19775800.0\n",
            "In epoch 44, loss: 16232180.0\n",
            "In epoch 45, loss: 13339655.0\n",
            "In epoch 46, loss: 10983618.0\n",
            "In epoch 47, loss: 9066762.0\n",
            "In epoch 48, loss: 7507871.0\n",
            "In epoch 49, loss: 6239673.0\n",
            "In epoch 50, loss: 5206973.5\n",
            "In epoch 51, loss: 4364775.5\n",
            "In epoch 52, loss: 3676573.0\n",
            "In epoch 53, loss: 3112844.75\n",
            "In epoch 54, loss: 2649775.25\n",
            "In epoch 55, loss: 2268198.0\n",
            "In epoch 56, loss: 1952713.875\n",
            "In epoch 57, loss: 1690945.5\n",
            "In epoch 58, loss: 1472912.0\n",
            "In epoch 59, loss: 1290596.25\n",
            "In epoch 60, loss: 1137540.5\n",
            "In epoch 61, loss: 1008513.375\n",
            "In epoch 62, loss: 899302.5\n",
            "In epoch 63, loss: 806468.5\n",
            "In epoch 64, loss: 727231.75\n",
            "In epoch 65, loss: 659319.6875\n",
            "In epoch 66, loss: 600872.1875\n",
            "In epoch 67, loss: 550368.0\n",
            "In epoch 68, loss: 506555.5\n",
            "In epoch 69, loss: 468395.34375\n",
            "In epoch 70, loss: 435032.125\n",
            "In epoch 71, loss: 405755.78125\n",
            "In epoch 72, loss: 379968.90625\n",
            "In epoch 73, loss: 357168.875\n",
            "In epoch 74, loss: 336948.75\n",
            "In epoch 75, loss: 318946.4375\n",
            "In epoch 76, loss: 302869.90625\n",
            "In epoch 77, loss: 288461.65625\n",
            "In epoch 78, loss: 275506.84375\n",
            "In epoch 79, loss: 263825.09375\n",
            "In epoch 80, loss: 253257.296875\n",
            "In epoch 81, loss: 243665.90625\n",
            "In epoch 82, loss: 234936.1875\n",
            "In epoch 83, loss: 226966.125\n",
            "In epoch 84, loss: 219668.1875\n",
            "In epoch 85, loss: 212968.046875\n",
            "In epoch 86, loss: 206796.46875\n",
            "In epoch 87, loss: 201099.84375\n",
            "In epoch 88, loss: 195823.796875\n",
            "In epoch 89, loss: 190924.546875\n",
            "In epoch 90, loss: 186362.640625\n",
            "In epoch 91, loss: 182103.109375\n",
            "In epoch 92, loss: 178117.109375\n",
            "In epoch 93, loss: 174378.046875\n",
            "In epoch 94, loss: 170859.546875\n",
            "In epoch 95, loss: 167541.328125\n",
            "In epoch 96, loss: 164404.765625\n",
            "In epoch 97, loss: 161432.53125\n",
            "In epoch 98, loss: 158609.21875\n",
            "In epoch 99, loss: 155922.875\n"
          ]
        }
      ],
      "source": [
        "import itertools\n",
        "optimizer = torch.optim.Adam(itertools.chain(model.parameters(), node_embed.parameters()), lr=0.01)\n",
        "\n",
        "\n",
        "for e in range(100):\n",
        "      # forward\n",
        "      h = model(g,inputs)\n",
        "      pos_score = score(pos_g,h) \n",
        "      neg_score = score(neg_g,h) \n",
        "      '''please add the loss function into the training scheme'''\n",
        "      loss = compute_loss(pos_score, neg_score)\n",
        "      # backward\n",
        "      optimizer.zero_grad()\n",
        "      loss.backward()\n",
        "      optimizer.step()\n",
        "\n",
        "      print(\"In epoch {}, loss: {}\".format(e, loss))"
      ]
    },
    {
      "cell_type": "markdown",
      "metadata": {
        "id": "d0N5Oi8wSn10"
      },
      "source": [
        "\n",
        "Draw the embedding"
      ]
    },
    {
      "cell_type": "code",
      "execution_count": 15,
      "metadata": {
        "id": "7UHqQmZkSnKg"
      },
      "outputs": [
        {
          "data": {
            "image/png": "[encoded data removed]",
            "text/plain": [
              "<Figure size 640x480 with 1 Axes>"
            ]
          },
          "metadata": {},
          "output_type": "display_data"
        }
      ],
      "source": [
        "labels = g.ndata['label'] #obtain the labels\n",
        "\n",
        "for ind,node in enumerate(g.nodes()):  \n",
        "    if labels[ind] == 0:\n",
        "        color = 'red'\n",
        "    else:\n",
        "        color = 'blue'\n",
        "      \n",
        "    '''please draw the embedding using plt.scatter()'''\n",
        "    plt.scatter(node_embed.weight.detach().numpy()[ind,0], node_embed.weight.detach().numpy()[ind,1], c=color)\n",
        "\n",
        "    plt.text(node_embed.weight.detach().numpy()[ind,0]-0.01, node_embed.weight.detach().numpy()[ind,1] , str(int(node.detach().numpy())))\n",
        "plt.show()"
      ]
    },
    {
      "cell_type": "markdown",
      "metadata": {
        "id": "2EI1hx0JSwnz"
      },
      "source": [
        "Cluster using kmeans."
      ]
    },
    {
      "cell_type": "code",
      "execution_count": 16,
      "metadata": {
        "id": "VMpjSR2rSu8W"
      },
      "outputs": [
        {
          "name": "stderr",
          "output_type": "stream",
          "text": [
            "/Users/apple/opt/anaconda3/envs/COMP4641/lib/python3.10/site-packages/sklearn/cluster/_kmeans.py:870: FutureWarning: The default value of `n_init` will change from 10 to 'auto' in 1.4. Set the value of `n_init` explicitly to suppress the warning\n",
            "  warnings.warn(\n"
          ]
        },
        {
          "data": {
            "image/png": "[encoded data removed]",
            "text/plain": [
              "<Figure size 640x480 with 1 Axes>"
            ]
          },
          "metadata": {},
          "output_type": "display_data"
        }
      ],
      "source": [
        "'''please conduct the clustering via sklearn.cluster.Kmeans() function'''\n",
        "kmeans = KMeans(n_clusters=2, random_state=0).fit(node_embed.weight.detach().numpy())\n",
        "\n",
        "# Get the predicted cluster labels\n",
        "pred_labels = kmeans.labels_\n",
        "\n",
        "#Visualize the embeddings\n",
        "for ind,node in enumerate(g.nodes()):\n",
        "  if pred_labels[ind] == 0:\n",
        "    color = 'red'\n",
        "  else:\n",
        "    color = 'blue'\n",
        "  '''please draw the embedding using plt.scatter()'''\n",
        "  plt.scatter(node_embed.weight.detach().numpy()[ind,0], node_embed.weight.detach().numpy()[ind,1], c=color)\n",
        "  \n",
        "  plt.text(node_embed.weight.detach().numpy()[ind,0]-0.01, node_embed.weight.detach().numpy()[ind,1] , str(int(node.detach().numpy())))\n",
        "plt.show()"
      ]
    },
    {
      "cell_type": "code",
      "execution_count": 17,
      "metadata": {},
      "outputs": [
        {
          "ename": "NameError",
          "evalue": "name 'cock' is not defined",
          "output_type": "error",
          "traceback": [
            "\u001b[0;31m---------------------------------------------------------------------------\u001b[0m",
            "\u001b[0;31mNameError\u001b[0m                                 Traceback (most recent call last)",
            "Cell \u001b[0;32mIn[17], line 1\u001b[0m\n\u001b[0;32m----> 1\u001b[0m cock\n",
            "\u001b[0;31mNameError\u001b[0m: name 'cock' is not defined"
          ]
        }
      ],
      "source": [
        "cock"
      ]
    },
    {
      "cell_type": "markdown",
      "metadata": {
        "id": "dCwL1FHzLoi0"
      },
      "source": [
        "**Q3**\n",
        "Node Classfication"
      ]
    },
    {
      "cell_type": "markdown",
      "metadata": {
        "id": "gwoglJVisjwN"
      },
      "source": [
        "\n",
        "import the Cora dataset"
      ]
    },
    {
      "cell_type": "code",
      "execution_count": 1,
      "metadata": {
        "colab": {
          "base_uri": "https://localhost:8080/"
        },
        "id": "irXUOnLrsjB2",
        "outputId": "307ff286-6907-4cd4-bdfe-578aa5e6811d"
      },
      "outputs": [
        {
          "name": "stdout",
          "output_type": "stream",
          "text": [
            "  NumNodes: 2708\n",
            "  NumEdges: 10556\n",
            "  NumFeats: 1433\n",
            "  NumClasses: 7\n",
            "  NumTrainingSamples: 140\n",
            "  NumValidationSamples: 500\n",
            "  NumTestSamples: 1000\n",
            "Done loading data from cached files.\n"
          ]
        }
      ],
      "source": [
        "import dgl.data\n",
        "dataset = dgl.data.CoraGraphDataset()\n",
        "g = dataset[0]"
      ]
    },
    {
      "cell_type": "markdown",
      "metadata": {
        "id": "PWSqvJTn8JFc"
      },
      "source": [
        "Build the model based on  GraphSAGE.\n"
      ]
    },
    {
      "cell_type": "code",
      "execution_count": 3,
      "metadata": {
        "id": "93Ils6WX60mA"
      },
      "outputs": [],
      "source": [
        "'''please build the model'''\n",
        "from dgl.nn import SAGEConv\n",
        "\n",
        "class Model(nn.Module):\n",
        "    def __init__(self, input_feats, h_feats):\n",
        "        super(Model, self).__init__()\n",
        "        '''please build GraphSAGE layer '''\n",
        "        self.gnn1 = SAGEConv(input_feats, h_feats, \"mean\")\n",
        "        self.gnn2 = SAGEConv(h_feats, h_feats, \"mean\")\n",
        "\n",
        "    def forward(self, g, in_feat):\n",
        "        hidden1 = self.gnn1(g, in_feat)\n",
        "        hidden1_ar = F.relu(hidden1)\n",
        "        h = self.gnn2(g, hidden1_ar)\n",
        "        return h"
      ]
    },
    {
      "cell_type": "markdown",
      "metadata": {
        "id": "T8W-P8PwPvxu"
      },
      "source": [
        "Define the linear classifier"
      ]
    },
    {
      "cell_type": "code",
      "execution_count": 4,
      "metadata": {
        "id": "imD1nSjUN5U-"
      },
      "outputs": [],
      "source": [
        "'''please build the classifier'''\n",
        "class Classifier(nn.Module):\n",
        "    def __init__(self, h_feat, num_classes):\n",
        "        super(Classifier, self).__init__()\n",
        "        '''please build the linear classfier '''\n",
        "        self.fc1 = nn.Linear(h_feat, num_classes)\n",
        "\n",
        "    def forward(self, in_feat):\n",
        "        h = self.fc1(in_feat)\n",
        "        return h"
      ]
    },
    {
      "cell_type": "markdown",
      "metadata": {
        "id": "PIeLFzgiMwCo"
      },
      "source": [
        "Train the NN."
      ]
    },
    {
      "cell_type": "code",
      "execution_count": 5,
      "metadata": {
        "id": "Dnj44QU2OW4w"
      },
      "outputs": [
        {
          "name": "stderr",
          "output_type": "stream",
          "text": [
            "/Users/apple/opt/anaconda3/envs/COMP4641/lib/python3.10/site-packages/dgl/backend/pytorch/tensor.py:445: UserWarning: TypedStorage is deprecated. It will be removed in the future and UntypedStorage will be the only storage class. This should only matter to you if you are using storages directly.  To access UntypedStorage directly, use tensor.untyped_storage() instead of tensor.storage()\n",
            "  assert input.numel() == input.storage().size(), (\n"
          ]
        },
        {
          "name": "stdout",
          "output_type": "stream",
          "text": [
            "In epoch 0, loss: 2.310, val acc: 0.000, test acc: 0.000\n",
            "In epoch 1, loss: 2.180, val acc: 0.382, test acc: 0.374\n",
            "In epoch 2, loss: 2.015, val acc: 0.516, test acc: 0.508\n",
            "In epoch 3, loss: 1.797, val acc: 0.728, test acc: 0.717\n",
            "In epoch 4, loss: 1.553, val acc: 0.688, test acc: 0.663\n",
            "In epoch 5, loss: 1.275, val acc: 0.716, test acc: 0.705\n",
            "In epoch 6, loss: 0.947, val acc: 0.770, test acc: 0.776\n",
            "In epoch 7, loss: 0.608, val acc: 0.782, test acc: 0.781\n",
            "In epoch 8, loss: 0.327, val acc: 0.770, test acc: 0.770\n",
            "In epoch 9, loss: 0.148, val acc: 0.764, test acc: 0.777\n",
            "In epoch 10, loss: 0.059, val acc: 0.772, test acc: 0.787\n",
            "In epoch 11, loss: 0.022, val acc: 0.770, test acc: 0.787\n",
            "In epoch 12, loss: 0.007, val acc: 0.768, test acc: 0.784\n",
            "In epoch 13, loss: 0.002, val acc: 0.768, test acc: 0.783\n",
            "In epoch 14, loss: 0.001, val acc: 0.764, test acc: 0.783\n",
            "In epoch 15, loss: 0.000, val acc: 0.764, test acc: 0.782\n",
            "In epoch 16, loss: 0.000, val acc: 0.762, test acc: 0.783\n",
            "In epoch 17, loss: 0.000, val acc: 0.758, test acc: 0.783\n",
            "In epoch 18, loss: 0.000, val acc: 0.758, test acc: 0.782\n",
            "In epoch 19, loss: 0.000, val acc: 0.760, test acc: 0.782\n",
            "In epoch 20, loss: 0.000, val acc: 0.760, test acc: 0.782\n",
            "In epoch 21, loss: 0.000, val acc: 0.760, test acc: 0.780\n",
            "In epoch 22, loss: 0.000, val acc: 0.756, test acc: 0.780\n",
            "In epoch 23, loss: 0.000, val acc: 0.756, test acc: 0.781\n",
            "In epoch 24, loss: 0.000, val acc: 0.756, test acc: 0.781\n",
            "In epoch 25, loss: 0.000, val acc: 0.756, test acc: 0.780\n",
            "In epoch 26, loss: 0.000, val acc: 0.754, test acc: 0.780\n",
            "In epoch 27, loss: 0.000, val acc: 0.754, test acc: 0.780\n",
            "In epoch 28, loss: 0.000, val acc: 0.756, test acc: 0.779\n",
            "In epoch 29, loss: 0.000, val acc: 0.754, test acc: 0.779\n",
            "In epoch 30, loss: 0.000, val acc: 0.754, test acc: 0.779\n",
            "In epoch 31, loss: 0.000, val acc: 0.754, test acc: 0.779\n",
            "In epoch 32, loss: 0.000, val acc: 0.754, test acc: 0.779\n",
            "In epoch 33, loss: 0.000, val acc: 0.754, test acc: 0.779\n",
            "In epoch 34, loss: 0.000, val acc: 0.754, test acc: 0.779\n",
            "In epoch 35, loss: 0.000, val acc: 0.754, test acc: 0.779\n",
            "In epoch 36, loss: 0.000, val acc: 0.754, test acc: 0.780\n",
            "In epoch 37, loss: 0.000, val acc: 0.754, test acc: 0.780\n",
            "In epoch 38, loss: 0.000, val acc: 0.756, test acc: 0.780\n",
            "In epoch 39, loss: 0.000, val acc: 0.756, test acc: 0.779\n",
            "In epoch 40, loss: 0.000, val acc: 0.756, test acc: 0.779\n",
            "In epoch 41, loss: 0.000, val acc: 0.756, test acc: 0.779\n",
            "In epoch 42, loss: 0.000, val acc: 0.756, test acc: 0.780\n",
            "In epoch 43, loss: 0.000, val acc: 0.756, test acc: 0.780\n",
            "In epoch 44, loss: 0.000, val acc: 0.756, test acc: 0.779\n",
            "In epoch 45, loss: 0.000, val acc: 0.756, test acc: 0.779\n",
            "In epoch 46, loss: 0.000, val acc: 0.756, test acc: 0.778\n",
            "In epoch 47, loss: 0.000, val acc: 0.756, test acc: 0.778\n",
            "In epoch 48, loss: 0.000, val acc: 0.756, test acc: 0.778\n",
            "In epoch 49, loss: 0.000, val acc: 0.756, test acc: 0.778\n",
            "In epoch 50, loss: 0.000, val acc: 0.756, test acc: 0.778\n",
            "In epoch 51, loss: 0.000, val acc: 0.756, test acc: 0.778\n",
            "In epoch 52, loss: 0.000, val acc: 0.756, test acc: 0.778\n",
            "In epoch 53, loss: 0.000, val acc: 0.756, test acc: 0.778\n",
            "In epoch 54, loss: 0.000, val acc: 0.756, test acc: 0.778\n",
            "In epoch 55, loss: 0.000, val acc: 0.756, test acc: 0.778\n",
            "In epoch 56, loss: 0.000, val acc: 0.756, test acc: 0.778\n",
            "In epoch 57, loss: 0.000, val acc: 0.756, test acc: 0.778\n",
            "In epoch 58, loss: 0.000, val acc: 0.756, test acc: 0.778\n",
            "In epoch 59, loss: 0.000, val acc: 0.756, test acc: 0.778\n",
            "In epoch 60, loss: 0.000, val acc: 0.756, test acc: 0.778\n",
            "In epoch 61, loss: 0.000, val acc: 0.756, test acc: 0.778\n",
            "In epoch 62, loss: 0.000, val acc: 0.756, test acc: 0.778\n",
            "In epoch 63, loss: 0.000, val acc: 0.756, test acc: 0.778\n",
            "In epoch 64, loss: 0.000, val acc: 0.756, test acc: 0.778\n",
            "In epoch 65, loss: 0.000, val acc: 0.756, test acc: 0.778\n",
            "In epoch 66, loss: 0.000, val acc: 0.756, test acc: 0.778\n",
            "In epoch 67, loss: 0.000, val acc: 0.756, test acc: 0.778\n",
            "In epoch 68, loss: 0.000, val acc: 0.756, test acc: 0.778\n",
            "In epoch 69, loss: 0.000, val acc: 0.756, test acc: 0.778\n",
            "In epoch 70, loss: 0.000, val acc: 0.756, test acc: 0.778\n",
            "In epoch 71, loss: 0.000, val acc: 0.756, test acc: 0.778\n",
            "In epoch 72, loss: 0.000, val acc: 0.756, test acc: 0.778\n",
            "In epoch 73, loss: 0.000, val acc: 0.756, test acc: 0.778\n",
            "In epoch 74, loss: 0.000, val acc: 0.756, test acc: 0.778\n",
            "In epoch 75, loss: 0.000, val acc: 0.756, test acc: 0.778\n",
            "In epoch 76, loss: 0.000, val acc: 0.756, test acc: 0.778\n",
            "In epoch 77, loss: 0.000, val acc: 0.756, test acc: 0.778\n",
            "In epoch 78, loss: 0.000, val acc: 0.756, test acc: 0.778\n",
            "In epoch 79, loss: 0.000, val acc: 0.756, test acc: 0.778\n",
            "In epoch 80, loss: 0.000, val acc: 0.756, test acc: 0.778\n",
            "In epoch 81, loss: 0.000, val acc: 0.756, test acc: 0.778\n",
            "In epoch 82, loss: 0.000, val acc: 0.756, test acc: 0.778\n",
            "In epoch 83, loss: 0.000, val acc: 0.756, test acc: 0.778\n",
            "In epoch 84, loss: 0.000, val acc: 0.756, test acc: 0.778\n",
            "In epoch 85, loss: 0.000, val acc: 0.756, test acc: 0.778\n",
            "In epoch 86, loss: 0.000, val acc: 0.756, test acc: 0.778\n",
            "In epoch 87, loss: 0.000, val acc: 0.756, test acc: 0.778\n",
            "In epoch 88, loss: 0.000, val acc: 0.756, test acc: 0.778\n",
            "In epoch 89, loss: 0.000, val acc: 0.756, test acc: 0.778\n",
            "In epoch 90, loss: 0.000, val acc: 0.756, test acc: 0.778\n",
            "In epoch 91, loss: 0.000, val acc: 0.756, test acc: 0.778\n",
            "In epoch 92, loss: 0.000, val acc: 0.756, test acc: 0.778\n",
            "In epoch 93, loss: 0.000, val acc: 0.756, test acc: 0.778\n",
            "In epoch 94, loss: 0.000, val acc: 0.756, test acc: 0.778\n",
            "In epoch 95, loss: 0.000, val acc: 0.756, test acc: 0.778\n",
            "In epoch 96, loss: 0.000, val acc: 0.756, test acc: 0.778\n",
            "In epoch 97, loss: 0.000, val acc: 0.756, test acc: 0.778\n",
            "In epoch 98, loss: 0.000, val acc: 0.756, test acc: 0.778\n",
            "In epoch 99, loss: 0.000, val acc: 0.756, test acc: 0.778\n"
          ]
        }
      ],
      "source": [
        "import itertools\n",
        "\n",
        "h_feat = 128\n",
        "num_classes = 10\n",
        "input_feats = 1433\n",
        "h_feats = 128\n",
        "\n",
        "'''please complete the functions for the  model'''\n",
        "classifier = Classifier(h_feat, num_classes)\n",
        "model = Model(input_feats, h_feats)\n",
        "optimizer = torch.optim.Adam(\n",
        "itertools.chain(model.parameters(), classifier.parameters()), lr=0.01)\n",
        "\n",
        "features = g.ndata[\"feat\"]\n",
        "labels = g.ndata[\"label\"]\n",
        "train_mask = g.ndata[\"train_mask\"]\n",
        "val_mask = g.ndata[\"val_mask\"]\n",
        "test_mask = g.ndata[\"test_mask\"]\n",
        "\n",
        "best_val_acc = 0.0\n",
        "best_test_acc = 0.0\n",
        "\n",
        "for e in range(100):\n",
        "    '''please fill in the missing \"Forward\" and \"Compute loss\" in training process'''\n",
        "    # Forward\n",
        "    hidden = model(g, features)\n",
        "    logits = classifier(hidden)\n",
        "\n",
        "    # Compute prediction\n",
        "    pred = logits.argmax(1)\n",
        "\n",
        "    # Compute loss\n",
        "    loss = F.cross_entropy(logits[train_mask], labels[train_mask])\n",
        "\n",
        "    # Backward\n",
        "    optimizer.zero_grad()\n",
        "    loss.backward()\n",
        "    optimizer.step()\n",
        "\n",
        "    # Compute accuracy on training/validation/test\n",
        "    train_acc = (pred[train_mask] == labels[train_mask]).float().mean()\n",
        "    val_acc = (pred[val_mask] == labels[val_mask]).float().mean()\n",
        "    test_acc = (pred[test_mask] == labels[test_mask]).float().mean()\n",
        "\n",
        "    # Save the best validation accuracy and the corresponding test accuracy.\n",
        "    if best_val_acc < val_acc:\n",
        "        best_val_acc = val_acc\n",
        "        best_test_acc = test_acc\n",
        "\n",
        "\n",
        "\n",
        "\n",
        "\n",
        "    # Compute accuracy on training/validation/test\n",
        "    train_acc = (pred[train_mask] == labels[train_mask]).float().mean()\n",
        "    val_acc = (pred[val_mask] == labels[val_mask]).float().mean()\n",
        "    test_acc = (pred[test_mask] == labels[test_mask]).float().mean()\n",
        "\n",
        "    print(\n",
        "            \"In epoch {}, loss: {:.3f}, val acc: {:.3f}, test acc: {:.3f}\".format(\n",
        "                e, loss, val_acc, test_acc\n",
        "            )\n",
        "        )"
      ]
    },
    {
      "cell_type": "code",
      "execution_count": null,
      "metadata": {},
      "outputs": [],
      "source": []
    }
  ],
  "metadata": {
    "colab": {
      "provenance": []
    },
    "kernelspec": {
      "display_name": "COMP4641",
      "language": "python",
      "name": "python3"
    },
    "language_info": {
      "codemirror_mode": {
        "name": "ipython",
        "version": 3
      },
      "file_extension": ".py",
      "mimetype": "text/x-python",
      "name": "python",
      "nbconvert_exporter": "python",
      "pygments_lexer": "ipython3",
      "version": "3.10.9"
    },
    "vscode": {
      "interpreter": {
        "hash": "7cd68f0176fa820ee58f82fef8d313bb4cacaf0e534eddfd3066caeb448c3212"
      }
    }
  },
  "nbformat": 4,
  "nbformat_minor": 0
}
