{
  "cells": [
    {
      "cell_type": "markdown",
      "metadata": {
        "id": "vas3uuGrX0Dj"
      },
      "source": [
        "\n",
        "\n",
        "**Import the NetworkX package**\n",
        "\n",
        "\n",
        "\n",
        "\n",
        "\n"
      ]
    },
    {
      "cell_type": "code",
      "execution_count": 1,
      "metadata": {
        "id": "EPm3YQ2cX0b6"
      },
      "outputs": [],
      "source": [
        "import networkx as nx     # nx can be seemed as an alias of networkx module"
      ]
    },
    {
      "cell_type": "markdown",
      "metadata": {
        "id": "xJTbTXU_YF3P"
      },
      "source": [
        "\n",
        "\n",
        "```\n",
        "# This is formatted as code\n",
        "```\n",
        "\n",
        "1. **Create a graph**"
      ]
    },
    {
      "cell_type": "code",
      "execution_count": null,
      "metadata": {
        "colab": {
          "base_uri": "https://localhost:8080/"
        },
        "id": "pDrrQIWlYWOD",
        "outputId": "beb28554-978a-4256-94bb-7404b2f4e2c7"
      },
      "outputs": [
        {
          "name": "stdout",
          "output_type": "stream",
          "text": [
            "[] []\n"
          ]
        }
      ],
      "source": [
        "# Simple example\n",
        "G = nx.Graph()            # create an empty graph with no nodes and no edges\n",
        "print(G.nodes(), G.edges())"
      ]
    },
    {
      "cell_type": "markdown",
      "metadata": {
        "id": "3_bEzgvXYo95"
      },
      "source": [
        "2. **Adding a node**\n",
        "\n",
        "* Adding a node and nodes using add_node.\n",
        "\n"
      ]
    },
    {
      "cell_type": "code",
      "execution_count": null,
      "metadata": {
        "colab": {
          "base_uri": "https://localhost:8080/"
        },
        "id": "LTmf9-ObY0QR",
        "outputId": "10e89cc5-1709-4303-8dbe-da8f8ca17915"
      },
      "outputs": [
        {
          "name": "stdout",
          "output_type": "stream",
          "text": [
            "[11]\n"
          ]
        }
      ],
      "source": [
        "G.add_node(11)    # add a single node\n",
        "print(G.nodes())"
      ]
    },
    {
      "cell_type": "markdown",
      "metadata": {
        "id": "X25t07sebHCx"
      },
      "source": [
        "* Adding a list of nodes using add_nodes_from.\n",
        "\n"
      ]
    },
    {
      "cell_type": "code",
      "execution_count": null,
      "metadata": {
        "colab": {
          "base_uri": "https://localhost:8080/"
        },
        "id": "MZlQAHSbbG0I",
        "outputId": "9c439676-3584-4295-ea0d-0f7bdc11dd87"
      },
      "outputs": [
        {
          "name": "stdout",
          "output_type": "stream",
          "text": [
            "[11, 12, 13]\n",
            "['s', 'p', 'a', 'm']\n"
          ]
        }
      ],
      "source": [
        "G.add_nodes_from([12,13])    # add a list of nodes\n",
        "print(G.nodes())\n",
        "G.clear()\n",
        "G.add_nodes_from(\"spam\")    # add a list of nodes\n",
        "print(G.nodes())"
      ]
    },
    {
      "cell_type": "markdown",
      "metadata": {
        "id": "b_b3ySVQb-2t"
      },
      "source": [
        "3. **Adding Edge**\n",
        "* add an edge"
      ]
    },
    {
      "cell_type": "code",
      "execution_count": null,
      "metadata": {
        "colab": {
          "base_uri": "https://localhost:8080/"
        },
        "id": "4ib2OFk0b7xS",
        "outputId": "8c5575ad-ea9e-4405-c22b-9edb1b905d9d"
      },
      "outputs": [
        {
          "name": "stdout",
          "output_type": "stream",
          "text": [
            "[1, 2, 3] [(1, 2)]\n"
          ]
        }
      ],
      "source": [
        "G.clear()\n",
        "G.add_nodes_from([1,2,3])\n",
        "G.add_edge(1,2)\n",
        "print(G.nodes(), G.edges())"
      ]
    },
    {
      "cell_type": "markdown",
      "metadata": {
        "id": "YFn1wygNdXeh"
      },
      "source": [
        "* add a list of edges"
      ]
    },
    {
      "cell_type": "code",
      "execution_count": null,
      "metadata": {
        "colab": {
          "base_uri": "https://localhost:8080/"
        },
        "id": "HSqm1TnqdXWn",
        "outputId": "a3fba2c5-afd6-4abb-8019-a525bbef3183"
      },
      "outputs": [
        {
          "name": "stdout",
          "output_type": "stream",
          "text": [
            "[(1, 2), (1, 3)]\n",
            "[(1, 2), (1, 3)]\n"
          ]
        }
      ],
      "source": [
        "G.add_edges_from([(1,2), (1,3)]) # add edges from a edge list\n",
        "print(G.edges())\n",
        "G.add_edges_from([(1,2)]) # adding an edge that is already present\n",
        "print(G.edges()) # No difference!                                                NetworkX quietly ignores, instead of overwriting the edge if it already exists. \n",
        "G.clear()"
      ]
    },
    {
      "cell_type": "markdown",
      "metadata": {
        "id": "TUfN-_GAdo8B"
      },
      "source": [
        "**Remove edges and nodes**\n",
        "\n",
        "\n"
      ]
    },
    {
      "cell_type": "code",
      "execution_count": null,
      "metadata": {
        "colab": {
          "base_uri": "https://localhost:8080/"
        },
        "id": "u2GDx3fSdoou",
        "outputId": "33e78160-89b5-46c1-ca23-cd723eb81f21"
      },
      "outputs": [
        {
          "name": "stdout",
          "output_type": "stream",
          "text": [
            "after the 1st operation\n",
            "[1, 2, 3, 's', 'p', 'a', 'm']\n",
            "[(1, 2)]\n",
            "after the 2st operation\n",
            "[1, 2]\n",
            "[(1, 2)]\n",
            "after the 3st operation\n",
            "[1, 2]\n",
            "[]\n"
          ]
        }
      ],
      "source": [
        "#add nodes and edges\n",
        "G.add_nodes_from([1,2,3])\n",
        "G.add_edges_from([(1,2)])\n",
        "G.add_nodes_from(\"spam\")\n",
        "print('after the 1st operation')\n",
        "print(G.nodes())\n",
        "print(G.edges())\n",
        "\n",
        "#remove edges and nodes\n",
        "\n",
        "G.remove_node(3)\n",
        "G.remove_nodes_from(\"spam\")\n",
        "print('after the 2st operation')\n",
        "print(G.nodes())\n",
        "print(G.edges())\n",
        "print('after the 3st operation')\n",
        "G.remove_edge(1,2)\n",
        "print(G.nodes())\n",
        "print(G.edges())"
      ]
    },
    {
      "cell_type": "markdown",
      "metadata": {
        "id": "sxwp9NLaxVrT"
      },
      "source": [
        "***Attributes of Graphs, Nodes and Edges***\n"
      ]
    },
    {
      "cell_type": "code",
      "execution_count": null,
      "metadata": {
        "colab": {
          "base_uri": "https://localhost:8080/"
        },
        "id": "L4niq7bnxTbn",
        "outputId": "d55aface-7882-4b61-a0c7-2b6ce6fd7bd6"
      },
      "outputs": [
        {
          "name": "stdout",
          "output_type": "stream",
          "text": [
            "{'day': 'Friday'} [] []\n",
            "{'day': 'Monday'}\n"
          ]
        }
      ],
      "source": [
        "#adding attributes to graph\n",
        "G = nx.Graph(day='Friday')                    # graph has an attribute day which is set to be Friday\n",
        "print(G.graph, G.nodes(), G.edges())\n",
        "\n",
        "G.graph['day'] = 'Monday'                     # modify the attribute\n",
        "print(G.graph)"
      ]
    },
    {
      "cell_type": "code",
      "execution_count": null,
      "metadata": {
        "colab": {
          "base_uri": "https://localhost:8080/"
        },
        "id": "JDvVZIr8UbRI",
        "outputId": "499413c5-2965-412b-9109-74a17e93fdf8"
      },
      "outputs": [
        {
          "name": "stdout",
          "output_type": "stream",
          "text": [
            "[(1, {'time': '5pm'}), (3, {'time': '2pm'}), (4, {'time': '2pm'}), (2, {'time': '10am'})]\n"
          ]
        }
      ],
      "source": [
        "#adding attributes to nodes\n",
        "G=nx.Graph()\n",
        "G.add_node(1, time = '5pm') # via add_node\n",
        "G.add_nodes_from([3, 4], time = '2pm') # via add_nodes_from\n",
        "G.add_node(2) \n",
        "G.nodes[2]['time']='10am' # via G.node[]\n",
        "print(G.nodes(data=True)) # with data=True, attr will be printed"
      ]
    },
    {
      "cell_type": "code",
      "execution_count": null,
      "metadata": {
        "colab": {
          "base_uri": "https://localhost:8080/"
        },
        "id": "lkejcq7rUb7L",
        "outputId": "7b7556ac-6f9b-4f37-8a51-ddd67f53ee47"
      },
      "outputs": [
        {
          "name": "stdout",
          "output_type": "stream",
          "text": [
            "[(1, 2, {'weight': 4.7, 'color': 'blue'}), (2, 3, {'weight': 8}), (3, 4, {'color': 'red'}), (4, 5, {'color': 'red'})]\n"
          ]
        }
      ],
      "source": [
        "#adding attributes to edges\n",
        "G=nx.Graph()\n",
        "G.add_edge(1, 2, weight=4.7) # via add_edge\n",
        "G.add_edges_from([(3,4), (4,5)], color='red') # via add_edges_from\n",
        "G.add_edges_from([(1,2,{'color':'blue'}), (2,3,{'weight':8})]) # another example of add_edges_from\n",
        "print(G.edges(data=True)) # with data=True, attr will be printed"
      ]
    },
    {
      "cell_type": "markdown",
      "metadata": {
        "id": "1IcGjfZMYY8A"
      },
      "source": [
        "**Accessing Edges and their Neighbors**"
      ]
    },
    {
      "cell_type": "code",
      "execution_count": null,
      "metadata": {
        "colab": {
          "base_uri": "https://localhost:8080/"
        },
        "id": "LT6N-e3HYVSM",
        "outputId": "d7447b79-6c28-408e-ea7a-44887b762f81"
      },
      "outputs": [
        {
          "name": "stdout",
          "output_type": "stream",
          "text": [
            "{2: {'color': 'yellow'}}\n",
            "{'color': 'yellow'}\n",
            "{'color': 'yellow'}\n",
            "yellow\n"
          ]
        }
      ],
      "source": [
        "G = nx.Graph([(1, 2, {\"color\": \"yellow\"})])\n",
        "print(G[1])  # same as G.adj[1]\n",
        "print(G[1][2])\n",
        "print(G.edges[1, 2])\n",
        "print(G.edges[1, 2]['color'])"
      ]
    },
    {
      "cell_type": "markdown",
      "metadata": {
        "id": "rbyqVdjtfQCX"
      },
      "source": [
        "**Path graph**\n",
        "\n",
        "* Adding linearly connected nodes."
      ]
    },
    {
      "cell_type": "code",
      "execution_count": null,
      "metadata": {
        "colab": {
          "base_uri": "https://localhost:8080/"
        },
        "id": "Y-Y3kYisbbzq",
        "outputId": "efd538a4-5669-475d-87de-b6934d684f1c"
      },
      "outputs": [
        {
          "name": "stdout",
          "output_type": "stream",
          "text": [
            "[0, 1, 2, 3, 4, 5, 6, 7, 8, 9]\n",
            "[(0, 1), (1, 2), (2, 3), (3, 4), (4, 5), (5, 6), (6, 7), (7, 8), (8, 9)]\n"
          ]
        }
      ],
      "source": [
        "H=nx.path_graph(10) # [0..10] linearly connected: 0->1->2....->9\n",
        "print(H.nodes())\n",
        "print(H.edges())"
      ]
    },
    {
      "cell_type": "markdown",
      "metadata": {
        "id": "jJ9VQqEDVBgg"
      },
      "source": [
        "**Directed Graph**\n",
        "\n",
        "A DiGraph class is the base class for directed graphs.\n",
        "\n",
        "It includes additional methods specific to directed graphs."
      ]
    },
    {
      "cell_type": "code",
      "execution_count": null,
      "metadata": {
        "colab": {
          "base_uri": "https://localhost:8080/"
        },
        "id": "iDr58Dl5VIlr",
        "outputId": "615f80b3-3ab6-4262-b313-9e4d49270c09"
      },
      "outputs": [
        {
          "name": "stdout",
          "output_type": "stream",
          "text": [
            "1 1 2\n",
            "0.75 0.5 1.25\n",
            "[2] [3] [2]\n"
          ]
        },
        {
          "data": {
            "text/plain": [
              "<networkx.classes.graph.Graph at 0x7f4a1e3787c0>"
            ]
          },
          "execution_count": 13,
          "metadata": {},
          "output_type": "execute_result"
        }
      ],
      "source": [
        "DG = nx.DiGraph()\n",
        "DG.add_weighted_edges_from([(1,2,0.5), (3,1,0.75)]) # 3->1->2\n",
        "print(DG.in_degree(1), DG.out_degree(1), DG.degree(1))\n",
        "print(DG.in_degree(1, weight = 'weight'), DG.out_degree(1, weight = 'weight'), DG.degree(1, weight = 'weight')) # degree is the sum\n",
        "print(list(DG.successors(1)), list(DG.predecessors(1)), list(DG.neighbors(1)))\n",
        "DG.to_undirected() #to graph\n"
      ]
    },
    {
      "cell_type": "markdown",
      "metadata": {
        "id": "7lYl7LU8Wl7k"
      },
      "source": [
        "**Drawing Graph**"
      ]
    },
    {
      "cell_type": "code",
      "execution_count": null,
      "metadata": {
        "colab": {
          "base_uri": "https://localhost:8080/",
          "height": 248
        },
        "id": "ELrBmaQTWUum",
        "outputId": "d301296a-b5b2-4d86-966c-618b96a89596"
      },
      "outputs": [
        {
          "data": {
            "image/png": "[encoded data removed]",
            "text/plain": [
              "<Figure size 432x288 with 1 Axes>"
            ]
          },
          "metadata": {},
          "output_type": "display_data"
        }
      ],
      "source": [
        "import matplotlib.pyplot as plt\n",
        "G = nx.path_graph(10)\n",
        "plt.figure(figsize=(6,4))\n",
        "nx.draw_networkx(G, with_labels=True, node_shape='v')\n",
        "plt.show()"
      ]
    },
    {
      "cell_type": "code",
      "execution_count": null,
      "metadata": {
        "colab": {
          "base_uri": "https://localhost:8080/",
          "height": 248
        },
        "id": "2PFLKnztxd5P",
        "outputId": "b59128be-6b15-4f6a-b03d-e1b97c78b2f3"
      },
      "outputs": [
        {
          "data": {
            "image/png": "[encoded data removed]",
            "text/plain": [
              "<Figure size 432x288 with 1 Axes>"
            ]
          },
          "metadata": {},
          "output_type": "display_data"
        }
      ],
      "source": [
        "G = nx.DiGraph([(1,2),(1,3)])\n",
        "plt.figure(figsize=(6,4))\n",
        "nx.draw_networkx(G, with_labels=True, node_shape='v')\n",
        "plt.show()"
      ]
    },
    {
      "cell_type": "code",
      "execution_count": null,
      "metadata": {
        "colab": {
          "base_uri": "https://localhost:8080/"
        },
        "id": "eM1k8SKJpaOe",
        "outputId": "6e680eb2-bdf4-4c25-9925-a58ca57c0c7e"
      },
      "outputs": [
        {
          "name": "stdout",
          "output_type": "stream",
          "text": [
            "{2: {'weight': 0.125}, 3: {'weight': 0.75}}\n",
            "(1, 2, 0.125)\n",
            "(1, 3, 0.750)\n",
            "{1: {'weight': 0.125}, 4: {'weight': 1.2}}\n",
            "(2, 1, 0.125)\n",
            "(2, 4, 1.200)\n",
            "{1: {'weight': 0.75}, 4: {'weight': 0.375}}\n",
            "(3, 1, 0.750)\n",
            "(3, 4, 0.375)\n",
            "{2: {'weight': 1.2}, 3: {'weight': 0.375}}\n",
            "(4, 2, 1.200)\n",
            "(4, 3, 0.375)\n"
          ]
        }
      ],
      "source": [
        "# fast examination of all edges using adjacency iterators\n",
        "FG = nx.Graph()\n",
        "FG.add_weighted_edges_from([(1,2,0.125), (1,3,0.75), (2,4,1.2), (3,4,0.375)])    # add weighted edges\n",
        "for n, nbrs in FG.adjacency():  # n: node, nbrs: corresponding neighbors \n",
        "    print(nbrs)\n",
        "    for nbr, edge_attr in nbrs.items():\n",
        "        data = edge_attr['weight']\n",
        "        print('(%d, %d, %.3f)' % (n, nbr, data))"
      ]
    }
  ],
  "metadata": {
    "colab": {
      "provenance": []
    },
    "kernelspec": {
      "display_name": "Python 3.9.6 64-bit",
      "language": "python",
      "name": "python3"
    },
    "language_info": {
      "codemirror_mode": {
        "name": "ipython",
        "version": 3
      },
      "file_extension": ".py",
      "mimetype": "text/x-python",
      "name": "python",
      "nbconvert_exporter": "python",
      "pygments_lexer": "ipython3",
      "version": "3.9.6"
    },
    "vscode": {
      "interpreter": {
        "hash": "2b2f986e34c784437bc73ae9ffb6552a40fe491ca739fdfc98aea12623ade877"
      }
    }
  },
  "nbformat": 4,
  "nbformat_minor": 0
}
