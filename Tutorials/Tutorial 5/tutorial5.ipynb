{
  "nbformat": 4,
  "nbformat_minor": 0,
  "metadata": {
    "colab": {
      "provenance": []
    },
    "kernelspec": {
      "name": "python3",
      "display_name": "Python 3"
    },
    "language_info": {
      "name": "python"
    }
  },
  "cells": [
    {
      "cell_type": "code",
      "execution_count": null,
      "metadata": {
        "id": "mP-ClbmXAdpP"
      },
      "outputs": [],
      "source": [
        "import networkx as nx\n",
        "import numpy as np\n",
        "import matplotlib.pyplot as plt\n",
        "import pylab\n",
        "import collections\n",
        "%matplotlib inline"
      ]
    },
    {
      "cell_type": "markdown",
      "source": [
        "Degree Centrality"
      ],
      "metadata": {
        "id": "X_SLknjMBaE1"
      }
    },
    {
      "cell_type": "code",
      "source": [
        "## undirected graph\n",
        "G = nx.Graph()\n",
        "G.add_edges_from([('A','B'),('B','C'),('C','D'),('D','B'),('E','D')])\n",
        "nx_deg = nx.degree(G)\n",
        "\n",
        "plt.figure(figsize=(3,2))\n",
        "plt.axis('off')\n",
        "nx.draw_networkx(G, pos=nx.circular_layout(G), node_size=500)  \n",
        "plt.show()  # \"arrows\" for directed graph are drawn with just thicker stubs by default\n",
        "\n",
        "\n",
        "print(nx_deg) # print out degree\n",
        "\n",
        "nx_deg_centrality = nx.degree_centrality(G)\n",
        "print(nx_deg_centrality) # this returns the normalized degree"
      ],
      "metadata": {
        "colab": {
          "base_uri": "https://localhost:8080/",
          "height": 175
        },
        "id": "GDggYCnpAyU0",
        "outputId": "2bafe661-5c12-4f81-c504-02a7af62c872"
      },
      "execution_count": null,
      "outputs": [
        {
          "output_type": "display_data",
          "data": {
            "text/plain": [
              "<Figure size 216x144 with 1 Axes>"
            ],
            "image/png": "[encoded data removed]"
          },
          "metadata": {}
        },
        {
          "output_type": "stream",
          "name": "stdout",
          "text": [
            "[('A', 1), ('B', 3), ('C', 2), ('D', 3), ('E', 1)]\n",
            "{'A': 0.25, 'B': 0.75, 'C': 0.5, 'D': 0.75, 'E': 0.25}\n"
          ]
        }
      ]
    },
    {
      "cell_type": "markdown",
      "source": [],
      "metadata": {
        "id": "8rNwgJZIBZIE"
      }
    },
    {
      "cell_type": "code",
      "source": [
        "## directed graph\n",
        "G = nx.DiGraph()\n",
        "G.add_edges_from([('A','B'),('B','C'),('C','D'),('D','B'),('E','D')])\n",
        "\n",
        "plt.figure(figsize=(3,2))\n",
        "plt.axis('off')\n",
        "nx.draw_networkx(G, pos=nx.circular_layout(G), node_size=500)  \n",
        "plt.show()  # \"arrows\" for directed graph are drawn with just thicker stubs by default\n",
        "\n",
        "nx_deg_centrality = nx.degree_centrality(G)\n",
        "nx_in_deg_centrality = nx.in_degree_centrality(G)\n",
        "nx_out_deg_centrality = nx.out_degree_centrality(G)\n",
        "print('degree centrality:', nx_deg_centrality, '\\n', 'in-degree centrality:', nx_in_deg_centrality, '\\n', 'out-degree centrality', nx_out_deg_centrality)"
      ],
      "metadata": {
        "colab": {
          "base_uri": "https://localhost:8080/",
          "height": 192
        },
        "id": "xcCfOip3BZBY",
        "outputId": "244f2d06-fb1d-4873-b20b-7bac2841eb30"
      },
      "execution_count": null,
      "outputs": [
        {
          "output_type": "display_data",
          "data": {
            "text/plain": [
              "<Figure size 216x144 with 1 Axes>"
            ],
            "image/png": "[encoded data removed]"
          },
          "metadata": {}
        },
        {
          "output_type": "stream",
          "name": "stdout",
          "text": [
            "degree centrality: {'A': 0.25, 'B': 0.75, 'C': 0.5, 'D': 0.75, 'E': 0.25} \n",
            " in-degree centrality: {'A': 0.0, 'B': 0.5, 'C': 0.25, 'D': 0.5, 'E': 0.0} \n",
            " out-degree centrality {'A': 0.25, 'B': 0.25, 'C': 0.25, 'D': 0.25, 'E': 0.25}\n"
          ]
        }
      ]
    },
    {
      "cell_type": "markdown",
      "source": [
        "Betweenness Centrality"
      ],
      "metadata": {
        "id": "e2o4jyAiuRh5"
      }
    },
    {
      "cell_type": "code",
      "source": [
        "G = nx.gnp_random_graph(10, 0.2)\n",
        "\n",
        "plt.figure(figsize=(6,4))\n",
        "plt.axis('off')\n",
        "nx.draw_networkx(G, pos=nx.circular_layout(G), node_size=500)  \n",
        "plt.show()  # \"arrows\" for directed graph are drawn with just thicker stubs by default\n",
        "\n",
        "\n",
        "nx_betwn_centrality = nx.betweenness_centrality(G)\n",
        "\n",
        "print('betweenness centrality:', nx_betwn_centrality)"
      ],
      "metadata": {
        "colab": {
          "base_uri": "https://localhost:8080/",
          "height": 265
        },
        "id": "ps7_ovuCB1QW",
        "outputId": "531b6db6-ab3f-43e5-88c7-f870de0e7420"
      },
      "execution_count": null,
      "outputs": [
        {
          "output_type": "display_data",
          "data": {
            "text/plain": [
              "<Figure size 432x288 with 1 Axes>"
            ],
            "image/png": "[encoded data removed]"
          },
          "metadata": {}
        },
        {
          "output_type": "stream",
          "name": "stdout",
          "text": [
            "betweenness centrality: {0: 0.0, 1: 0.0, 2: 0.0, 3: 0.0, 4: 0.0, 5: 0.0, 6: 0.0, 7: 0.0, 8: 0.0, 9: 0.0}\n"
          ]
        }
      ]
    },
    {
      "cell_type": "markdown",
      "source": [
        "Closeness Centrality"
      ],
      "metadata": {
        "id": "JKJ4TVH8uTno"
      }
    },
    {
      "cell_type": "code",
      "source": [
        "G = nx.path_graph(5)\n",
        "\n",
        "plt.figure(figsize=(6,4))\n",
        "plt.axis('off')\n",
        "nx.draw_networkx(G, pos=nx.circular_layout(G),  node_size=500)  \n",
        "plt.show()  # \"arrows\" for directed graph are drawn with just thicker stubs by default\n",
        "\n",
        "nx_close_centrality = nx.closeness_centrality(G)\n",
        "print('closeness centrality:', nx_close_centrality)"
      ],
      "metadata": {
        "colab": {
          "base_uri": "https://localhost:8080/",
          "height": 265
        },
        "id": "9skCGpxvCwMa",
        "outputId": "95b359ec-2a99-4846-f85f-b6f6cd5add52"
      },
      "execution_count": null,
      "outputs": [
        {
          "output_type": "display_data",
          "data": {
            "text/plain": [
              "<Figure size 432x288 with 1 Axes>"
            ],
            "image/png": "[encoded data removed]"
          },
          "metadata": {}
        },
        {
          "output_type": "stream",
          "name": "stdout",
          "text": [
            "closeness centrality: {0: 0.4, 1: 0.5714285714285714, 2: 0.6666666666666666, 3: 0.5714285714285714, 4: 0.4}\n"
          ]
        }
      ]
    },
    {
      "cell_type": "markdown",
      "source": [
        "Eigenvector Centrality"
      ],
      "metadata": {
        "id": "P1a_JdzsuV7b"
      }
    },
    {
      "cell_type": "code",
      "source": [
        "from math import trunc\n",
        "G = nx.path_graph(4)\n",
        "\n",
        "plt.figure(figsize=(6,4))\n",
        "plt.axis('off')\n",
        "nx.draw_networkx(G, pos=nx.circular_layout(G), node_size=500)  \n",
        "plt.show()  # \"arrows\" for directed graph are drawn with just thicker stubs by default\n",
        "\n",
        "nx_eigen_centrality = nx.eigenvector_centrality(G).values()\n",
        "\n",
        "print('eigenvector centrality:', nx_eigen_centrality)"
      ],
      "metadata": {
        "colab": {
          "base_uri": "https://localhost:8080/",
          "height": 265
        },
        "id": "W9AlviE-DC-R",
        "outputId": "904c6976-4b2e-4d95-f4fa-db062675b7aa"
      },
      "execution_count": null,
      "outputs": [
        {
          "output_type": "display_data",
          "data": {
            "text/plain": [
              "<Figure size 432x288 with 1 Axes>"
            ],
            "image/png": "[encoded data removed]"
          },
          "metadata": {}
        },
        {
          "output_type": "stream",
          "name": "stdout",
          "text": [
            "eigenvector centrality: dict_values([0.3717482342712009, 0.6015008315175004, 0.6015008315175003, 0.3717482342712008])\n"
          ]
        }
      ]
    }
  ]
}